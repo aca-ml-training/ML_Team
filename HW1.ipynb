{
 "cells": [
  {
   "cell_type": "markdown",
   "metadata": {},
   "source": [
    "<span style=\"font-size: 14pt\">EREVAN, May-June 2017</span>\n",
    "\n",
    "<span style=\"font-size: 16pt\"> Seminar #2: Exponential smoothing models\n",
    "\n",
    "<span style=\"color:blue; font-size: 12pt\">Alexey Romanenko </span>,\n",
    "<span style=\"color:blue; font-size: 12pt; font-family: 'Verdana'\">alexromsput@gmail.com</span>\n",
    "\n",
    "\n",
    "<h1 align=\"center\"> Home Work 1 </h1>\n",
    "\n",
    "## Answer questions\n",
    "\n",
    "1) ** How do adaptive properties of SES change when smoothing parametr $\\alpha$ converges to 1?**\n",
    "\n",
    "<Answer>\n",
    "\n",
    "2) ** What will be the optimal value of smoothing parameter of trend $\\beta$ in Hold model for 1) time series with slowly  changing trend; 2) stochastic changing trend (look <a href=\"http://stochastictrend.blogspot.am/\">here </a>)? **\n",
    "\n",
    "<Answer>\n",
    "\n",
    "3) **Proof the equivalency of correction error form and smoothing form for unobserved component of TS in  Thei-Wage model (period of seasonality equals $p$):**\n",
    "\n",
    "  $$l_t = \\alpha (y_t - s_{t-p}) + (1-\\alpha) (l_{t-1} + b_{t-1} )=l_{t-1} + b_{t-1} + \\alpha e_t;$$\n",
    "  $$ b_t = \\beta (l_{t} - l_{t-1} ) + (1-\\beta) b_{t-1} = b_{t-1} + \\alpha\\beta e_t;$$\n",
    "  $$ s_t = \\gamma (y_t-l_t) + (1-\\gamma) s_{t-p} = s_{t-p} + \\gamma(1-\\alpha)e_t.$$\n",
    "\n",
    "\n",
    "4) **Find the correction error form for unobserved component of TS in ES with additive damped trend:**\n",
    "\n",
    "$$\\hat{y}_{t+d|t} = l_t + \\left(\\phi + \\phi^2 + \\dots + \\phi^{d}\\right) b_t.$$\n",
    "\n",
    "**Unobserved components are (in smoothing form): **\n",
    "\n",
    "$$ l_{t}       = \\alpha y_t + \\left(1-\\alpha\\right) \\left(l_{t-1} +\\phi b_{t-1}\\right),$$\n",
    "$$ b_t         = \\beta \\left(l_t - l_{t-1}\\right) + \\left(1-\\beta\\right)\\phi b_{t-1}.$$"
   ]
  },
  {
   "cell_type": "markdown",
   "metadata": {},
   "source": [
    "1) When $\\alpha$ converges to $1$, we get that the forecast of $y_{T+1}$ does depend on last points of TS more than on first points, and we quickly do forget the history of TS.\n",
    "\n",
    "2) \n",
    "\n",
    "$\\hspace{10mm}$ 1) Since TS have slowly changing trend, we don't need to remember history for trend very strictly, so optimal value for the parameter $\\beta$ will be closer to $1$ than $0$.\n",
    "\n",
    "$\\hspace{10mm}$ 2) Since TS have quckly changing trend, we need to remember trend history for long time, so optimal value for $\\beta$ will be closer to $1$ than $0$."
   ]
  },
  {
   "cell_type": "markdown",
   "metadata": {
    "collapsed": true
   },
   "source": [
    "3) We have that\n",
    "$$\n",
    "l_t = \\alpha(e_t + \\hat{y}_t - s_{t-p}) + (1-\\alpha)(l_{t-1}+b_{t-1}) =\n",
    "\\alpha(e_t + l_{t-1} + b_{t-1} + s_{t-1+1-p} - s_{t-p}) + (1-\\alpha)(l_{t-1}+b_{t-1})\n",
    "$$\n",
    "$$\n",
    "= \n",
    "\\alpha e_t + l_{t-1} + b_{t-1},\n",
    "$$\n",
    "therefore\n",
    "$$\n",
    "b_t = \\beta(b_{t-1} + \\alpha e_t) + (1-\\beta)b_{t-1} = b_{t-1} + \\alpha\\beta e_t.\n",
    "$$\n",
    "And we have\n",
    "$$\n",
    "s_t = \\gamma(e_t + \\hat{y}_t - l_t) + (1-\\gamma)s_{t-p} = \\gamma(e_t + l_{t-1} + b_{t-1} + s_{t-p} - l_t) + (1-\\gamma)s_{t-p}\n",
    "$$\n",
    "$$\n",
    "= \\gamma(e_t - b_{t-1} - \\alpha e_t + b_{t-1} + s_{t-p}) + (1-\\gamma)s_{t-p}\n",
    "= \\gamma(1-\\alpha)e_t + s_{t-p}.\n",
    "$$\n",
    "\n",
    "Here we supposed that delay is 1."
   ]
  },
  {
   "cell_type": "markdown",
   "metadata": {},
   "source": [
    "4) We have\n",
    "$$\n",
    "l_t = \\alpha(e_t + \\hat{y}_t) + (1-\\alpha)(l_{t-1} + \\phi b_{t-1}) = \n",
    "\\alpha(e_t + l_{t-1} + \\phi b_{t-1}) + (1-\\alpha)(l_{t-1} + \\phi b_{t-1})\n",
    "$$\n",
    "$$\n",
    "=\\alpha e_t + l_{t-1} + \\phi b_{t-1},\n",
    "$$\n",
    "and \n",
    "$$\n",
    "b_t = \\beta(\\alpha e_t + \\phi b_{t-1}) + (1-\\beta)\\phi b_{t-1}\n",
    "= \\beta\\alpha e_t + \\phi b_{t-1}\n",
    "$$\n",
    "\n",
    "Here we supposed that delay is 1."
   ]
  }
 ],
 "metadata": {
  "anaconda-cloud": {},
  "kernelspec": {
   "display_name": "Python 2",
   "language": "python",
   "name": "python2"
  },
  "language_info": {
   "codemirror_mode": {
    "name": "ipython",
    "version": 2
   },
   "file_extension": ".py",
   "mimetype": "text/x-python",
   "name": "python",
   "nbconvert_exporter": "python",
   "pygments_lexer": "ipython2",
   "version": "2.7.12"
  }
 },
 "nbformat": 4,
 "nbformat_minor": 1
}
