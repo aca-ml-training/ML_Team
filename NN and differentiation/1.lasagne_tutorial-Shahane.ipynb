{
 "cells": [
  {
   "cell_type": "markdown",
   "metadata": {},
   "source": [
    "# lasagne\n",
    "* lasagne is a library for neural network building and training\n",
    "* it's a low-level library with almost seamless integration with theano\n",
    "\n",
    "For a demo we shall solve the same digit recognition problem, but at a different scale\n",
    "* images are now 28x28\n",
    "* 10 different digits\n",
    "* 50k samples"
   ]
  },
  {
   "cell_type": "code",
   "execution_count": 11,
   "metadata": {
    "collapsed": false
   },
   "outputs": [],
   "source": [
    "import numpy as np\n",
    "import theano\n",
    "import theano.tensor as T\n",
    "import matplotlib.pyplot as plt\n",
    "%matplotlib inline"
   ]
  },
  {
   "cell_type": "code",
   "execution_count": 12,
   "metadata": {
    "collapsed": false
   },
   "outputs": [
    {
     "name": "stdout",
     "output_type": "stream",
     "text": [
      "(50000, 1, 28, 28) (50000,)\n"
     ]
    }
   ],
   "source": [
    "from mnist import load_dataset\n",
    "X_train,y_train,X_val,y_val,X_test,y_test = load_dataset()\n",
    "\n",
    "print(X_train.shape,y_train.shape)"
   ]
  },
  {
   "cell_type": "code",
   "execution_count": 13,
   "metadata": {
    "collapsed": true
   },
   "outputs": [],
   "source": [
    "input_X = T.tensor4(\"X\")\n",
    "\n",
    "#input dimention (None means \"Arbitrary\" and only works at  the first axes [samples])\n",
    "input_shape = [None,1,28,28]\n",
    "\n",
    "target_y = T.vector(\"target Y integer\",dtype='int32')"
   ]
  },
  {
   "cell_type": "markdown",
   "metadata": {},
   "source": [
    "Defining network architecture"
   ]
  },
  {
   "cell_type": "code",
   "execution_count": 14,
   "metadata": {
    "collapsed": false
   },
   "outputs": [],
   "source": [
    "import lasagne\n",
    "from lasagne.layers import *\n",
    "\n",
    "#Input layer (auxilary)\n",
    "l = InputLayer(shape = input_shape,input_var=input_X)#+\n",
    "\n",
    "#fully connected layer, that takes input layer and applies 50 neurons to it.\n",
    "# nonlinearity here is sigmoid as in logistic regression\n",
    "# you can give a name to each layer (optional)\n",
    "\n",
    "l = Conv2DLayer(l, num_filters=20, filter_size=(5, 5), nonlinearity=lasagne.nonlinearities.rectify)\n",
    "\n",
    "l = MaxPool2DLayer(l, pool_size=(2, 2))\n",
    "\n",
    "l = Conv2DLayer(l, num_filters=35, filter_size=(5, 5),nonlinearity=lasagne.nonlinearities.rectify)\n",
    "\n",
    "l = DenseLayer(dropout(l, p=.5), num_units=130, nonlinearity=lasagne.nonlinearities.rectify)\n",
    "\n",
    "l_out = DenseLayer(dropout(l,p=.5),num_units = 10,nonlinearity=lasagne.nonlinearities.softmax)"
   ]
  },
  {
   "cell_type": "code",
   "execution_count": 25,
   "metadata": {
    "collapsed": true
   },
   "outputs": [],
   "source": [
    "#network prediction (theano-transformation)\n",
    "y_predicted = lasagne.layers.get_output(l_out)\n",
    "y_predicted_test = lasagne.layers.get_output(l_out, deterministic = True)"
   ]
  },
  {
   "cell_type": "code",
   "execution_count": 16,
   "metadata": {
    "collapsed": false
   },
   "outputs": [
    {
     "name": "stdout",
     "output_type": "stream",
     "text": [
      "[W, b, W, b, W, b, W, b]\n"
     ]
    }
   ],
   "source": [
    "#all network weights (shared variables)\n",
    "all_weights = lasagne.layers.get_all_params(l_out)\n",
    "print (all_weights)"
   ]
  },
  {
   "cell_type": "markdown",
   "metadata": {},
   "source": [
    "### Than you could simply\n",
    "* define loss function manually\n",
    "* compute error gradient over all weights\n",
    "* define updates\n",
    "* But that's a whole lot of work and life's short\n",
    "  * not to mention life's too short to wait for SGD to converge\n",
    "\n",
    "Instead, we shall use Lasagne builtins"
   ]
  },
  {
   "cell_type": "code",
   "execution_count": 26,
   "metadata": {
    "collapsed": true
   },
   "outputs": [],
   "source": [
    "#Mean categorical crossentropy as a loss function - similar to logistic loss but for multiclass targets\n",
    "loss = lasagne.objectives.categorical_crossentropy(y_predicted,target_y).mean()\n",
    "\n",
    "#prediction accuracy\n",
    "accuracy = lasagne.objectives.categorical_accuracy(y_predicted,target_y).mean()\n",
    "\n",
    "accuracy_test = lasagne.objectives.categorical_accuracy(y_predicted_test, target_y).mean()\n",
    "\n",
    "#This function computes gradient AND composes weight updates just like you did earlier\n",
    "updates_sgd = lasagne.updates.sgd(loss, all_weights,learning_rate=0.01)"
   ]
  },
  {
   "cell_type": "code",
   "execution_count": 27,
   "metadata": {
    "collapsed": false
   },
   "outputs": [],
   "source": [
    "#function that computes loss and updates weights\n",
    "train_fun = theano.function([input_X,target_y],[loss,accuracy],updates= updates_sgd)\n",
    "\n",
    "#function that just computes accuracy\n",
    "accuracy_fun = theano.function([input_X,target_y],accuracy)\n",
    "accuracy_fun_test = theano.function([input_X,target_y],accuracy)"
   ]
  },
  {
   "cell_type": "markdown",
   "metadata": {},
   "source": [
    "### That's all, now let's train it!\n",
    "* We got a lot of data, so it's recommended that you use SGD\n",
    "* So let's implement a function that splits the training sample into minibatches"
   ]
  },
  {
   "cell_type": "code",
   "execution_count": 19,
   "metadata": {
    "collapsed": true
   },
   "outputs": [],
   "source": [
    "# An auxilary function that returns mini-batches for neural network training\n",
    "\n",
    "#Parameters\n",
    "# inputs - a tensor of images with shape (many, 1, 28, 28), e.g. X_train\n",
    "# outputs - a vector of answers for corresponding images e.g. Y_train\n",
    "#batch_size - a single number - the intended size of each batches\n",
    "\n",
    "def iterate_minibatches(inputs, targets, batchsize):\n",
    "    assert len(inputs) == len(targets)\n",
    "    indices = np.arange(len(inputs))\n",
    "    np.random.shuffle(indices)\n",
    "    for start_idx in range(0, len(inputs) - batchsize + 1, batchsize):\n",
    "        excerpt = indices[start_idx:start_idx + batchsize]\n",
    "        yield inputs[excerpt], targets[excerpt]"
   ]
  },
  {
   "cell_type": "markdown",
   "metadata": {},
   "source": [
    "# Training loop"
   ]
  },
  {
   "cell_type": "code",
   "execution_count": 23,
   "metadata": {
    "collapsed": false,
    "scrolled": false
   },
   "outputs": [
    {
     "name": "stdout",
     "output_type": "stream",
     "text": [
      "Epoch 1 of 50 took 60.457s\n",
      "  training loss (in-iteration):\t\t0.043328\n",
      "  train accuracy:\t\t98.63 %\n",
      "  validation accuracy:\t\t98.44 %\n",
      "Epoch 2 of 50 took 76.492s\n",
      "  training loss (in-iteration):\t\t0.041457\n",
      "  train accuracy:\t\t98.69 %\n",
      "  validation accuracy:\t\t98.48 %\n",
      "Epoch 3 of 50 took 80.475s\n",
      "  training loss (in-iteration):\t\t0.040165\n",
      "  train accuracy:\t\t98.75 %\n",
      "  validation accuracy:\t\t98.20 %\n",
      "Epoch 4 of 50 took 79.822s\n",
      "  training loss (in-iteration):\t\t0.042239\n",
      "  train accuracy:\t\t98.72 %\n",
      "  validation accuracy:\t\t98.29 %\n",
      "Epoch 5 of 50 took 82.976s\n",
      "  training loss (in-iteration):\t\t0.042540\n",
      "  train accuracy:\t\t98.67 %\n",
      "  validation accuracy:\t\t98.53 %\n",
      "Epoch 6 of 50 took 80.895s\n",
      "  training loss (in-iteration):\t\t0.039461\n",
      "  train accuracy:\t\t98.76 %\n",
      "  validation accuracy:\t\t98.54 %\n",
      "Epoch 7 of 50 took 82.637s\n",
      "  training loss (in-iteration):\t\t0.039221\n",
      "  train accuracy:\t\t98.78 %\n",
      "  validation accuracy:\t\t98.48 %\n",
      "Epoch 8 of 50 took 79.821s\n",
      "  training loss (in-iteration):\t\t0.040234\n",
      "  train accuracy:\t\t98.74 %\n",
      "  validation accuracy:\t\t98.59 %\n",
      "Epoch 9 of 50 took 81.766s\n",
      "  training loss (in-iteration):\t\t0.039287\n",
      "  train accuracy:\t\t98.72 %\n",
      "  validation accuracy:\t\t98.65 %\n",
      "Epoch 10 of 50 took 83.420s\n",
      "  training loss (in-iteration):\t\t0.038108\n",
      "  train accuracy:\t\t98.80 %\n",
      "  validation accuracy:\t\t98.52 %\n",
      "Epoch 11 of 50 took 78.534s\n",
      "  training loss (in-iteration):\t\t0.037827\n",
      "  train accuracy:\t\t98.82 %\n",
      "  validation accuracy:\t\t98.45 %\n",
      "Epoch 12 of 50 took 81.187s\n",
      "  training loss (in-iteration):\t\t0.039072\n",
      "  train accuracy:\t\t98.76 %\n",
      "  validation accuracy:\t\t98.63 %\n",
      "Epoch 13 of 50 took 78.975s\n",
      "  training loss (in-iteration):\t\t0.036909\n",
      "  train accuracy:\t\t98.82 %\n",
      "  validation accuracy:\t\t98.43 %\n",
      "Epoch 14 of 50 took 78.596s\n",
      "  training loss (in-iteration):\t\t0.037795\n",
      "  train accuracy:\t\t98.82 %\n",
      "  validation accuracy:\t\t98.51 %\n",
      "Epoch 15 of 50 took 78.720s\n",
      "  training loss (in-iteration):\t\t0.036942\n",
      "  train accuracy:\t\t98.89 %\n",
      "  validation accuracy:\t\t98.64 %\n",
      "Epoch 16 of 50 took 79.628s\n",
      "  training loss (in-iteration):\t\t0.036663\n",
      "  train accuracy:\t\t98.89 %\n",
      "  validation accuracy:\t\t98.58 %\n",
      "Epoch 17 of 50 took 78.925s\n",
      "  training loss (in-iteration):\t\t0.036925\n",
      "  train accuracy:\t\t98.88 %\n",
      "  validation accuracy:\t\t98.66 %\n",
      "Epoch 18 of 50 took 78.181s\n",
      "  training loss (in-iteration):\t\t0.037168\n",
      "  train accuracy:\t\t98.85 %\n",
      "  validation accuracy:\t\t98.64 %\n",
      "Epoch 19 of 50 took 54.698s\n",
      "  training loss (in-iteration):\t\t0.034598\n",
      "  train accuracy:\t\t98.92 %\n",
      "  validation accuracy:\t\t98.48 %\n",
      "Epoch 20 of 50 took 54.797s\n",
      "  training loss (in-iteration):\t\t0.034742\n",
      "  train accuracy:\t\t98.89 %\n",
      "  validation accuracy:\t\t98.61 %\n",
      "Epoch 21 of 50 took 55.118s\n",
      "  training loss (in-iteration):\t\t0.033984\n",
      "  train accuracy:\t\t98.92 %\n",
      "  validation accuracy:\t\t98.53 %\n",
      "Epoch 22 of 50 took 54.909s\n",
      "  training loss (in-iteration):\t\t0.033456\n",
      "  train accuracy:\t\t98.93 %\n",
      "  validation accuracy:\t\t98.62 %\n",
      "Epoch 23 of 50 took 54.866s\n",
      "  training loss (in-iteration):\t\t0.032943\n",
      "  train accuracy:\t\t98.99 %\n",
      "  validation accuracy:\t\t98.70 %\n",
      "Epoch 24 of 50 took 54.611s\n",
      "  training loss (in-iteration):\t\t0.032764\n",
      "  train accuracy:\t\t98.96 %\n",
      "  validation accuracy:\t\t98.54 %\n",
      "Epoch 25 of 50 took 54.889s\n",
      "  training loss (in-iteration):\t\t0.033264\n",
      "  train accuracy:\t\t98.95 %\n",
      "  validation accuracy:\t\t98.75 %\n",
      "Epoch 26 of 50 took 54.900s\n",
      "  training loss (in-iteration):\t\t0.032946\n",
      "  train accuracy:\t\t98.99 %\n",
      "  validation accuracy:\t\t98.61 %\n",
      "Epoch 27 of 50 took 55.319s\n",
      "  training loss (in-iteration):\t\t0.031424\n",
      "  train accuracy:\t\t98.95 %\n",
      "  validation accuracy:\t\t98.71 %\n",
      "Epoch 28 of 50 took 56.366s\n",
      "  training loss (in-iteration):\t\t0.032133\n",
      "  train accuracy:\t\t98.99 %\n",
      "  validation accuracy:\t\t98.68 %\n",
      "Epoch 29 of 50 took 57.807s\n",
      "  training loss (in-iteration):\t\t0.032437\n",
      "  train accuracy:\t\t98.99 %\n",
      "  validation accuracy:\t\t98.68 %\n",
      "Epoch 30 of 50 took 56.487s\n",
      "  training loss (in-iteration):\t\t0.031913\n",
      "  train accuracy:\t\t98.97 %\n",
      "  validation accuracy:\t\t98.65 %\n",
      "Epoch 31 of 50 took 56.625s\n",
      "  training loss (in-iteration):\t\t0.030303\n",
      "  train accuracy:\t\t99.02 %\n",
      "  validation accuracy:\t\t98.72 %\n",
      "Epoch 32 of 50 took 58.032s\n",
      "  training loss (in-iteration):\t\t0.029945\n",
      "  train accuracy:\t\t99.02 %\n",
      "  validation accuracy:\t\t98.67 %\n",
      "Epoch 33 of 50 took 56.432s\n",
      "  training loss (in-iteration):\t\t0.030169\n",
      "  train accuracy:\t\t99.04 %\n",
      "  validation accuracy:\t\t98.66 %\n",
      "Epoch 34 of 50 took 58.803s\n",
      "  training loss (in-iteration):\t\t0.031441\n",
      "  train accuracy:\t\t98.95 %\n",
      "  validation accuracy:\t\t98.79 %\n",
      "Epoch 35 of 50 took 92.401s\n",
      "  training loss (in-iteration):\t\t0.030441\n",
      "  train accuracy:\t\t99.06 %\n",
      "  validation accuracy:\t\t98.80 %\n",
      "Epoch 36 of 50 took 86.173s\n",
      "  training loss (in-iteration):\t\t0.030103\n",
      "  train accuracy:\t\t99.06 %\n",
      "  validation accuracy:\t\t98.70 %\n",
      "Epoch 37 of 50 took 75.552s\n",
      "  training loss (in-iteration):\t\t0.029587\n",
      "  train accuracy:\t\t99.02 %\n",
      "  validation accuracy:\t\t98.65 %\n",
      "Epoch 38 of 50 took 92.064s\n",
      "  training loss (in-iteration):\t\t0.029223\n",
      "  train accuracy:\t\t99.06 %\n",
      "  validation accuracy:\t\t98.70 %\n",
      "Epoch 39 of 50 took 81.804s\n",
      "  training loss (in-iteration):\t\t0.029251\n",
      "  train accuracy:\t\t99.08 %\n",
      "  validation accuracy:\t\t98.72 %\n",
      "Epoch 40 of 50 took 81.329s\n",
      "  training loss (in-iteration):\t\t0.028071\n",
      "  train accuracy:\t\t99.13 %\n",
      "  validation accuracy:\t\t98.78 %\n",
      "Epoch 41 of 50 took 82.533s\n",
      "  training loss (in-iteration):\t\t0.029525\n",
      "  train accuracy:\t\t99.07 %\n",
      "  validation accuracy:\t\t98.68 %\n",
      "Epoch 42 of 50 took 79.752s\n",
      "  training loss (in-iteration):\t\t0.027691\n",
      "  train accuracy:\t\t99.09 %\n",
      "  validation accuracy:\t\t98.80 %\n",
      "Epoch 43 of 50 took 84.734s\n",
      "  training loss (in-iteration):\t\t0.028161\n",
      "  train accuracy:\t\t99.06 %\n",
      "  validation accuracy:\t\t98.75 %\n",
      "Epoch 44 of 50 took 85.923s\n",
      "  training loss (in-iteration):\t\t0.026866\n",
      "  train accuracy:\t\t99.14 %\n",
      "  validation accuracy:\t\t98.65 %\n",
      "Epoch 45 of 50 took 78.943s\n",
      "  training loss (in-iteration):\t\t0.028367\n",
      "  train accuracy:\t\t99.07 %\n",
      "  validation accuracy:\t\t98.90 %\n",
      "Epoch 46 of 50 took 81.253s\n",
      "  training loss (in-iteration):\t\t0.028267\n",
      "  train accuracy:\t\t99.12 %\n",
      "  validation accuracy:\t\t98.86 %\n",
      "Epoch 47 of 50 took 80.392s\n",
      "  training loss (in-iteration):\t\t0.027921\n",
      "  train accuracy:\t\t99.09 %\n",
      "  validation accuracy:\t\t98.59 %\n",
      "Epoch 48 of 50 took 78.626s\n",
      "  training loss (in-iteration):\t\t0.026130\n",
      "  train accuracy:\t\t99.16 %\n",
      "  validation accuracy:\t\t98.80 %\n",
      "Epoch 49 of 50 took 78.703s\n",
      "  training loss (in-iteration):\t\t0.026299\n",
      "  train accuracy:\t\t99.10 %\n",
      "  validation accuracy:\t\t98.62 %\n",
      "Epoch 50 of 50 took 79.337s\n",
      "  training loss (in-iteration):\t\t0.025671\n",
      "  train accuracy:\t\t99.19 %\n",
      "  validation accuracy:\t\t98.73 %\n"
     ]
    }
   ],
   "source": [
    "import time\n",
    "\n",
    "num_epochs = 50 #amount of passes through the data\n",
    "\n",
    "batch_size = 50 #number of samples processed at each function call\n",
    "\n",
    "for epoch in range(num_epochs):\n",
    "    # In each epoch, we do a full pass over the training data:\n",
    "    train_err = 0\n",
    "    train_acc = 0\n",
    "    train_batches = 0\n",
    "    start_time = time.time()\n",
    "    for batch in iterate_minibatches(X_train, y_train,batch_size):\n",
    "        inputs, targets = batch\n",
    "        train_err_batch, train_acc_batch= train_fun(inputs, targets)\n",
    "        train_err += train_err_batch\n",
    "        train_acc += train_acc_batch\n",
    "        train_batches += 1\n",
    "\n",
    "    # And a full pass over the validation data:\n",
    "    val_acc = 0\n",
    "    val_batches = 0\n",
    "    for batch in iterate_minibatches(X_val, y_val, batch_size):\n",
    "        inputs, targets = batch\n",
    "        val_acc += accuracy_fun(inputs, targets)\n",
    "        val_batches += 1\n",
    "\n",
    "    \n",
    "    # Then we print the results for this epoch:\n",
    "    print(\"Epoch {} of {} took {:.3f}s\".format(\n",
    "        epoch + 1, num_epochs, time.time() - start_time))\n",
    "\n",
    "    print(\"  training loss (in-iteration):\\t\\t{:.6f}\".format(train_err / train_batches))\n",
    "    print(\"  train accuracy:\\t\\t{:.2f} %\".format(\n",
    "        train_acc / train_batches * 100))\n",
    "    print(\"  validation accuracy:\\t\\t{:.2f} %\".format(\n",
    "        val_acc / val_batches * 100))"
   ]
  },
  {
   "cell_type": "code",
   "execution_count": 28,
   "metadata": {
    "collapsed": false
   },
   "outputs": [
    {
     "name": "stdout",
     "output_type": "stream",
     "text": [
      "Final results:\n",
      "  test accuracy:\t\t98.73 %\n",
      "We need more magic!\n"
     ]
    }
   ],
   "source": [
    "test_acc = 0\n",
    "test_batches = 0\n",
    "for batch in iterate_minibatches(X_test, y_test, 500):\n",
    "    inputs, targets = batch\n",
    "    acc = accuracy_fun_test(inputs, targets)\n",
    "    test_acc += acc\n",
    "    test_batches += 1\n",
    "print(\"Final results:\")\n",
    "print(\"  test accuracy:\\t\\t{:.2f} %\".format(\n",
    "    test_acc / test_batches * 100))\n",
    "\n",
    "if test_acc / test_batches * 100 > 99:\n",
    "    print (\"Achievement unlocked: 80lvl Warlock!\")\n",
    "else:\n",
    "    print (\"We need more magic!\")"
   ]
  },
  {
   "cell_type": "markdown",
   "metadata": {
    "collapsed": true
   },
   "source": [
    "# Now improve it!\n",
    "\n",
    "* Moar layers!\n",
    "* Moar units!\n",
    "* Different nonlinearities!"
   ]
  }
 ],
 "metadata": {
  "kernelspec": {
   "display_name": "Python 3",
   "language": "python",
   "name": "python3"
  },
  "language_info": {
   "codemirror_mode": {
    "name": "ipython",
    "version": 3
   },
   "file_extension": ".py",
   "mimetype": "text/x-python",
   "name": "python",
   "nbconvert_exporter": "python",
   "pygments_lexer": "ipython3",
   "version": "3.6.0"
  }
 },
 "nbformat": 4,
 "nbformat_minor": 1
}
