{
 "cells": [
  {
   "cell_type": "code",
   "execution_count": 3,
   "metadata": {
    "collapsed": false
   },
   "outputs": [
    {
     "name": "stdout",
     "output_type": "stream",
     "text": [
      "epoch  0  is running ....\n",
      "epoch  1  is running ....\n",
      "epoch  2  is running ....\n",
      "epoch  3  is running ....\n",
      "epoch  4  is running ....\n",
      "epoch  5  is running ....\n",
      "epoch  6  is running ....\n",
      "epoch  7  is running ....\n",
      "epoch  8  is running ....\n",
      "epoch  9  is running ....\n",
      "Decision Tree Accuracy =  0.734615384615  ( 0.0606912839925 )\n",
      "Random Forest Tree Accuracy =  0.776923076923  ( 0.0803100500685 )\n"
     ]
    }
   ],
   "source": [
    "from runner import evaluate_performance\n",
    "stats = evaluate_performance()\n",
    "print \"Decision Tree Accuracy = \", stats[0, 0], \" (\", stats[0, 1], \")\"\n",
    "print \"Random Forest Tree Accuracy = \", stats[1, 0], \" (\", stats[1, 1], \")\""
   ]
  },
  {
   "cell_type": "code",
   "execution_count": null,
   "metadata": {
    "collapsed": true
   },
   "outputs": [],
   "source": []
  }
 ],
 "metadata": {
  "anaconda-cloud": {},
  "kernelspec": {
   "display_name": "Python [default]",
   "language": "python",
   "name": "python2"
  },
  "language_info": {
   "codemirror_mode": {
    "name": "ipython",
    "version": 2
   },
   "file_extension": ".py",
   "mimetype": "text/x-python",
   "name": "python",
   "nbconvert_exporter": "python",
   "pygments_lexer": "ipython2",
   "version": "2.7.12"
  }
 },
 "nbformat": 4,
 "nbformat_minor": 1
}
