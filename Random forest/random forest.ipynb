{
 "cells": [
  {
   "cell_type": "code",
   "execution_count": 9,
   "metadata": {
    "collapsed": true
   },
   "outputs": [],
   "source": [
    "import numpy as np\n",
    "from decision_tree import DecisionTree\n",
    "from runner import accuracy_score\n",
    "from random_forest import RandomForest"
   ]
  },
  {
   "cell_type": "code",
   "execution_count": 1,
   "metadata": {
    "collapsed": true
   },
   "outputs": [],
   "source": [
    "def evaluate_performance():\n",
    "    '''\n",
    "    Evaluate the performance of decision trees and logistic regression,\n",
    "    average over 1,000 trials of 10-fold cross validation\n",
    "\n",
    "    Return:\n",
    "      a matrix giving the performance that will contain the following entries:\n",
    "      stats[0,0] = mean accuracy of decision tree\n",
    "      stats[0,1] = std deviation of decision tree accuracy\n",
    "      stats[1,0] = mean accuracy of logistic regression\n",
    "      stats[1,1] = std deviation of logistic regression accuracy\n",
    "\n",
    "    ** Note that your implementation must follow this API**\n",
    "    '''\n",
    "\n",
    "    # Load Data\n",
    "    filename = 'data/SPECTF.dat'\n",
    "    data = np.loadtxt(filename, delimiter=',')\n",
    "    X = data[:, 1:]\n",
    "    y = np.array([data[:, 0]]).T\n",
    "    n, d = X.shape\n",
    "    \n",
    "    all_accuracies=[]\n",
    "    all_accuracies_random_forest=[]\n",
    "\n",
    "    for trial in range(1):\n",
    "\n",
    "        idx = np.arange(n)\n",
    "#        np.random.seed(13)\n",
    "        np.random.shuffle(idx)\n",
    "        X = X[idx]\n",
    "        y = y[idx]\n",
    "        \n",
    "\n",
    "        \n",
    "        fold_shape=n//10\n",
    "\n",
    "        k=0\n",
    "        for j in range(10):\n",
    "            print('epoch  '+str(j)+'  is running ....')\n",
    "            Xtest=X[k:k+fold_shape]\n",
    "            ytest=y[k:k+fold_shape]\n",
    "\n",
    "            Xtrain=np.array(list(X[:k])+list(X[k+fold_shape:]))\n",
    "            ytrain=np.array(list(y[:k])+list(y[k+fold_shape:]))\n",
    "            \n",
    "            k+=fold_shape\n",
    "                        \n",
    "            classifier = DecisionTree(100)\n",
    "\n",
    "            classifier.fit(Xtrain, ytrain) \n",
    "                    \n",
    "            y_pred = classifier.predict(Xtest)\n",
    "\n",
    "            accuracy = accuracy_score(ytest, y_pred)\n",
    "            all_accuracies.append(accuracy)\n",
    "            \n",
    "            #random_forest\n",
    "            classifier_random_forest=RandomForest(10,100)\n",
    "            \n",
    "            classifier_random_forest.fit(Xtrain, ytrain)\n",
    "            \n",
    "            y_pred_random_forest=classifier_random_forest.predict(Xtest)[0]\n",
    "\n",
    "            \n",
    "            accuracy_random_forest=accuracy_score(ytest, y_pred_random_forest)\n",
    "            all_accuracies_random_forest.append(accuracy_random_forest)\n",
    "            \n",
    "\n",
    "            \n",
    "    all_accuracies=np.array(all_accuracies)\n",
    "\n",
    "\n",
    "    # compute the training accuracy of the model\n",
    "    meanDecisionTreeAccuracy = np.mean(all_accuracies)\n",
    "\n",
    "\n",
    "    \n",
    "    stddevDecisionTreeAccuracy = np.std(all_accuracies)\n",
    "    meanLogisticRegressionAccuracy = 0\n",
    "    stddevLogisticRegressionAccuracy = 0\n",
    "    meanRandomForestAccuracy = np.mean(all_accuracies_random_forest)\n",
    "    stddevRandomForestAccuracy = np.std(all_accuracies_random_forest)\n",
    "\n",
    "\n",
    "    # make certain that the return value matches the API specification\n",
    "    stats = np.zeros((3, 3))\n",
    "    stats[0, 0] = meanDecisionTreeAccuracy\n",
    "    stats[0, 1] = stddevDecisionTreeAccuracy\n",
    "    stats[1, 0] = meanRandomForestAccuracy\n",
    "    stats[1, 1] = stddevRandomForestAccuracy\n",
    "    stats[2, 0] = meanLogisticRegressionAccuracy\n",
    "    stats[2, 1] = stddevLogisticRegressionAccuracy\n",
    "    return stats"
   ]
  },
  {
   "cell_type": "code",
   "execution_count": 10,
   "metadata": {
    "collapsed": false
   },
   "outputs": [
    {
     "name": "stdout",
     "output_type": "stream",
     "text": [
      "epoch  0  is running ....\n",
      "epoch  1  is running ....\n",
      "epoch  2  is running ....\n",
      "epoch  3  is running ....\n",
      "epoch  4  is running ....\n",
      "epoch  5  is running ....\n",
      "epoch  6  is running ....\n",
      "epoch  7  is running ....\n",
      "epoch  8  is running ....\n",
      "epoch  9  is running ....\n",
      "Decision Tree Accuracy =  0.7  ( 0.0615384615385 )\n",
      "Random Forest Tree Accuracy =  0.757692307692  ( 0.0621365170054 )\n"
     ]
    }
   ],
   "source": [
    "stats = evaluate_performance()\n",
    "print \"Decision Tree Accuracy = \", stats[0, 0], \" (\", stats[0, 1], \")\"\n",
    "print \"Random Forest Tree Accuracy = \", stats[1, 0], \" (\", stats[1, 1], \")\""
   ]
  },
  {
   "cell_type": "code",
   "execution_count": null,
   "metadata": {
    "collapsed": true
   },
   "outputs": [],
   "source": []
  }
 ],
 "metadata": {
  "anaconda-cloud": {},
  "kernelspec": {
   "display_name": "Python [default]",
   "language": "python",
   "name": "python2"
  },
  "language_info": {
   "codemirror_mode": {
    "name": "ipython",
    "version": 2
   },
   "file_extension": ".py",
   "mimetype": "text/x-python",
   "name": "python",
   "nbconvert_exporter": "python",
   "pygments_lexer": "ipython2",
   "version": "2.7.12"
  }
 },
 "nbformat": 4,
 "nbformat_minor": 1
}
