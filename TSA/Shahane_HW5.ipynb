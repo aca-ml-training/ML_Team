{
 "cells": [
  {
   "cell_type": "code",
   "execution_count": 1,
   "metadata": {
    "collapsed": true
   },
   "outputs": [],
   "source": [
    "import pandas as pd\n",
    "import numpy as np\n",
    "import math\n",
    "from utils import qualityRMSE, qualityMedianAE, qualityMACAPE\n",
    "from utils import ExponentialSmoothing as SimpleExponentialSmoothing, AdaptiveExponentialSmoothing # , TheilWageExponentialSmoothing\n",
    "import matplotlib.pyplot as plt\n",
    "%matplotlib inline"
   ]
  },
  {
   "cell_type": "code",
   "execution_count": 95,
   "metadata": {
    "collapsed": true
   },
   "outputs": [],
   "source": [
    "def AdaptiveSelection(x, h, Params):\n",
    "    '''\n",
    "    Parameters\n",
    "    x <array> - time series\n",
    "    h <integer scalar>- forecasting delay\n",
    "    Params <dict> - dictionary with \n",
    "        gamma <scalar in [0,1]> - smoothing parameter of error\n",
    "        eps <scalar> - bound for best indistinctive models\n",
    "        BaseAlgs - array of <dict> with params\n",
    "            BaseAlg <string> - name of base algorithm\n",
    "            BaseAlfParams <dict> dictionary of base algorithm's params\n",
    "    '''\n",
    "    T = len(x)\n",
    "    FORECAST = [np.NaN]*(T+h)\n",
    "\n",
    "    \n",
    "    \n",
    "    BaseAlgs = Params['BaseAlgs']\n",
    "    N = len(BaseAlgs)\n",
    "    FORECAST_BA = np.array([np.NAN]*(T+h)*N).reshape(N, T+h)\n",
    "        \n",
    "    for ba in range(len(BaseAlgs)):\n",
    "        FORECAST_BA[ba]= eval(BaseAlgs[ba]['BaseAlg']+\"(x,h,\"+\"BaseAlgs[\"+str(ba)+\"]['BaseAlgParams'])\")\n",
    "        \n",
    "    # internal params of composition\n",
    "    gamma = Params['gamma']\n",
    "    eps = Params['eps']\n",
    "    \n",
    "    if gamma>1:\n",
    "        w.warn('Gamma can not be more than 1')\n",
    "        #alpha = 1\n",
    "        return FORECAST\n",
    "    if gamma<0:\n",
    "        w.warn('Gamma can not be less than 0')\n",
    "        #alpha = 0\n",
    "        return FORECAST\n",
    "\n",
    "    \n",
    "    e1= np.zeros(N) # initialization of errors of base algorithms\n",
    "    j_best = np.zeros(N)\n",
    "    y = np.nan\n",
    "    \n",
    "    for t in range(0, T):\n",
    "        if not math.isnan(x[t]):\n",
    "            if t>= h:\n",
    "                temp = np.abs(x[t]-FORECAST_BA.transpose()[t])\n",
    "                if not np.any(np.isnan(temp)):\n",
    "                    e1 = gamma*temp+(1-gamma)*e1  \n",
    "                if not np.all(np.isnan(e1)):\n",
    "                    j_best = np.nanargmin(e1) \n",
    "                    idx_bestinsdistinctive = np.where(e1 < e1[j_best] + eps)[-1]\n",
    "                    y = FORECAST_BA[idx_bestinsdistinctive,t].mean()\n",
    "            \n",
    "            \n",
    "        FORECAST[t+h] = y\n",
    "    return FORECAST"
   ]
  },
  {
   "cell_type": "code",
   "execution_count": 96,
   "metadata": {
    "collapsed": true
   },
   "outputs": [],
   "source": [
    "def AdaptiveCombination(x, h, Params):\n",
    "    '''\n",
    "    Parameters\n",
    "    x <array> - time series\n",
    "    h <integer scalar>- forecasting delay\n",
    "    Params <dict> - dictionary with \n",
    "        gamma <scalar in [0,1]> - smoothing parameter of error\n",
    "        BaseAlgs - array of <dict> with params\n",
    "            BaseAlg <string> - name of base algorithm\n",
    "            BaseAlfParams <dict> dictionary of base algorithm's params\n",
    "    '''\n",
    "    T = len(x)\n",
    "    FORECAST = [np.NaN]*(T+h)\n",
    "\n",
    "    BaseAlgs = Params['BaseAlgs']\n",
    "    N = len(BaseAlgs)\n",
    "    FORECAST_BA = np.array([np.NAN]*(T+h)*N).reshape(N, T+h)\n",
    "    \n",
    "    \n",
    "    for ba in range(len(BaseAlgs)):\n",
    "        FORECAST_BA[ba]= BaseAlgFunctions[BaseAlgs[ba]['BaseAlg']](x,h,BaseAlgs[ba]['BaseAlgParams'])\n",
    "    \n",
    "        \n",
    "    gamma = Params['gamma']\n",
    "    eps = Params['eps']\n",
    "    \n",
    "    if gamma>1:\n",
    "        w.warn('Gamma can not be more than 1')\n",
    "        #alpha = 1\n",
    "        return FORECAST\n",
    "    if gamma<0:\n",
    "        w.warn('Gamma can not be less than 0')\n",
    "        #alpha = 0\n",
    "        return FORECAST\n",
    "\n",
    "    \n",
    "    e1=  np.zeros(N)\n",
    "    weights =  np.zeros(N)\n",
    "    y = np.nan\n",
    "    for t in range(0, T):\n",
    "        if not np.math.isnan(x[t]):\n",
    "            \n",
    "            if t>= h:\n",
    "                temp = np.abs(x[t]-FORECAST_BA.transpose()[t])\n",
    "                if not np.any(np.isnan(temp)):\n",
    "                    e1 = gamma*temp+(1-gamma)*e1  \n",
    "                if not np.all(np.isnan(e1)):\n",
    "                    w_best = (1/e1) / np.sum(1/e1)\n",
    "                    y = np.dot(w_best,FORECAST_BA.T[t])\n",
    "        FORECAST[t+h] = y\n",
    "    return FORECAST"
   ]
  },
  {
   "cell_type": "code",
   "execution_count": 97,
   "metadata": {
    "collapsed": true
   },
   "outputs": [],
   "source": [
    "BaseAlgFunctions = {\n",
    "    'SimpleExponentialSmoothing':SimpleExponentialSmoothing,\n",
    "    'AdaptiveExponentialSmoothing':AdaptiveExponentialSmoothing,\n",
    "}"
   ]
  },
  {
   "cell_type": "code",
   "execution_count": 98,
   "metadata": {
    "collapsed": true
   },
   "outputs": [],
   "source": [
    "BaseAlgs = [{'BaseAlg':'SimpleExponentialSmoothing', 'BaseAlgParams':{'alpha':0.1, 'AdaptationPeriod':10}},\n",
    "            {'BaseAlg':'SimpleExponentialSmoothing', 'BaseAlgParams':{'alpha':0.3, 'AdaptationPeriod':10}},\n",
    "            {'BaseAlg':'SimpleExponentialSmoothing', 'BaseAlgParams':{'alpha':0.5, 'AdaptationPeriod':10}},\n",
    "            {'BaseAlg':'AdaptiveExponentialSmoothing', 'BaseAlgParams':{'alpha':0.2,'gamma':0.02, 'AdaptationPeriod':10}},\n",
    "            {'BaseAlg':'AdaptiveExponentialSmoothing', 'BaseAlgParams':{'alpha':0.2,'gamma':0.03, 'AdaptationPeriod':10}},\n",
    "            {'BaseAlg':'AdaptiveExponentialSmoothing', 'BaseAlgParams':{'alpha':0.1,'gamma':0.01, 'AdaptationPeriod':10}},\n",
    "#                  {'BaseAlg':'AdaptiveSimpleExponentialSmoothing', 'BaseAlgParams':{'alpha':0.1, 'gamma':0.01}},\n",
    "#                 {'BaseAlg':'TheilWageSmoothing', 'BaseAlgParams':{'alpha':0.3, 'beta':0.9,'delta':0.9}}\n",
    "]"
   ]
  },
  {
   "cell_type": "code",
   "execution_count": 99,
   "metadata": {
    "collapsed": false
   },
   "outputs": [
    {
     "name": "stdout",
     "output_type": "stream",
     "text": [
      "SimpleExponentialSmoothing(x,h,BaseAlgs[0]['BaseAlgsParams'])\n",
      "SimpleExponentialSmoothing(x,h,BaseAlgs[1]['BaseAlgsParams'])\n",
      "SimpleExponentialSmoothing(x,h,BaseAlgs[2]['BaseAlgsParams'])\n",
      "AdaptiveExponentialSmoothing(x,h,BaseAlgs[3]['BaseAlgsParams'])\n",
      "AdaptiveExponentialSmoothing(x,h,BaseAlgs[4]['BaseAlgsParams'])\n",
      "AdaptiveExponentialSmoothing(x,h,BaseAlgs[5]['BaseAlgsParams'])\n"
     ]
    }
   ],
   "source": [
    "for ba in range(len(BaseAlgs)):\n",
    "    print(BaseAlgs[ba]['BaseAlg']+\"(x,h,\"+\"BaseAlgs[\"+str(ba)+\"]['BaseAlgsParams'])\")"
   ]
  },
  {
   "cell_type": "code",
   "execution_count": 100,
   "metadata": {
    "collapsed": false
   },
   "outputs": [],
   "source": [
    "ts = pd.read_csv('TimeSeries_Data10.csv', sep=',', decimal='.', parse_dates=True, dayfirst=True, index_col='Dates')\n",
    "ts.index.names=['Timestamp']\n",
    "ts = ts.sort_index() # sort index"
   ]
  },
  {
   "cell_type": "code",
   "execution_count": 101,
   "metadata": {
    "collapsed": false
   },
   "outputs": [
    {
     "data": {
      "text/html": [
       "<div>\n",
       "<style>\n",
       "    .dataframe thead tr:only-child th {\n",
       "        text-align: right;\n",
       "    }\n",
       "\n",
       "    .dataframe thead th {\n",
       "        text-align: left;\n",
       "    }\n",
       "\n",
       "    .dataframe tbody tr th {\n",
       "        vertical-align: top;\n",
       "    }\n",
       "</style>\n",
       "<table border=\"1\" class=\"dataframe\">\n",
       "  <thead>\n",
       "    <tr style=\"text-align: right;\">\n",
       "      <th></th>\n",
       "      <th>Item:  165</th>\n",
       "      <th>Item:  969</th>\n",
       "      <th>Item: 2653</th>\n",
       "      <th>Item: 2654</th>\n",
       "      <th>Item: 2692</th>\n",
       "      <th>Item: 2695</th>\n",
       "      <th>Item: 2697</th>\n",
       "      <th>Item: 2765</th>\n",
       "      <th>Item: 2767</th>\n",
       "      <th>Item: 2806</th>\n",
       "      <th>Item: 2808</th>\n",
       "    </tr>\n",
       "    <tr>\n",
       "      <th>Timestamp</th>\n",
       "      <th></th>\n",
       "      <th></th>\n",
       "      <th></th>\n",
       "      <th></th>\n",
       "      <th></th>\n",
       "      <th></th>\n",
       "      <th></th>\n",
       "      <th></th>\n",
       "      <th></th>\n",
       "      <th></th>\n",
       "      <th></th>\n",
       "    </tr>\n",
       "  </thead>\n",
       "  <tbody>\n",
       "    <tr>\n",
       "      <th>2005-01-11</th>\n",
       "      <td>NaN</td>\n",
       "      <td>2.0</td>\n",
       "      <td>4.0</td>\n",
       "      <td>NaN</td>\n",
       "      <td>NaN</td>\n",
       "      <td>NaN</td>\n",
       "      <td>NaN</td>\n",
       "      <td>NaN</td>\n",
       "      <td>NaN</td>\n",
       "      <td>NaN</td>\n",
       "      <td>NaN</td>\n",
       "    </tr>\n",
       "    <tr>\n",
       "      <th>2005-01-12</th>\n",
       "      <td>NaN</td>\n",
       "      <td>5.0</td>\n",
       "      <td>8.0</td>\n",
       "      <td>NaN</td>\n",
       "      <td>NaN</td>\n",
       "      <td>NaN</td>\n",
       "      <td>NaN</td>\n",
       "      <td>NaN</td>\n",
       "      <td>NaN</td>\n",
       "      <td>NaN</td>\n",
       "      <td>NaN</td>\n",
       "    </tr>\n",
       "    <tr>\n",
       "      <th>2005-01-13</th>\n",
       "      <td>NaN</td>\n",
       "      <td>2.0</td>\n",
       "      <td>20.0</td>\n",
       "      <td>NaN</td>\n",
       "      <td>NaN</td>\n",
       "      <td>NaN</td>\n",
       "      <td>NaN</td>\n",
       "      <td>NaN</td>\n",
       "      <td>NaN</td>\n",
       "      <td>NaN</td>\n",
       "      <td>NaN</td>\n",
       "    </tr>\n",
       "    <tr>\n",
       "      <th>2005-01-14</th>\n",
       "      <td>NaN</td>\n",
       "      <td>42.0</td>\n",
       "      <td>14.0</td>\n",
       "      <td>NaN</td>\n",
       "      <td>NaN</td>\n",
       "      <td>NaN</td>\n",
       "      <td>NaN</td>\n",
       "      <td>NaN</td>\n",
       "      <td>NaN</td>\n",
       "      <td>NaN</td>\n",
       "      <td>NaN</td>\n",
       "    </tr>\n",
       "    <tr>\n",
       "      <th>2005-01-15</th>\n",
       "      <td>NaN</td>\n",
       "      <td>NaN</td>\n",
       "      <td>23.0</td>\n",
       "      <td>NaN</td>\n",
       "      <td>NaN</td>\n",
       "      <td>NaN</td>\n",
       "      <td>NaN</td>\n",
       "      <td>NaN</td>\n",
       "      <td>NaN</td>\n",
       "      <td>NaN</td>\n",
       "      <td>NaN</td>\n",
       "    </tr>\n",
       "  </tbody>\n",
       "</table>\n",
       "</div>"
      ],
      "text/plain": [
       "            Item:  165  Item:  969  Item: 2653  Item: 2654  Item: 2692  \\\n",
       "Timestamp                                                                \n",
       "2005-01-11         NaN         2.0         4.0         NaN         NaN   \n",
       "2005-01-12         NaN         5.0         8.0         NaN         NaN   \n",
       "2005-01-13         NaN         2.0        20.0         NaN         NaN   \n",
       "2005-01-14         NaN        42.0        14.0         NaN         NaN   \n",
       "2005-01-15         NaN         NaN        23.0         NaN         NaN   \n",
       "\n",
       "            Item: 2695  Item: 2697  Item: 2765  Item: 2767  Item: 2806  \\\n",
       "Timestamp                                                                \n",
       "2005-01-11         NaN         NaN         NaN         NaN         NaN   \n",
       "2005-01-12         NaN         NaN         NaN         NaN         NaN   \n",
       "2005-01-13         NaN         NaN         NaN         NaN         NaN   \n",
       "2005-01-14         NaN         NaN         NaN         NaN         NaN   \n",
       "2005-01-15         NaN         NaN         NaN         NaN         NaN   \n",
       "\n",
       "            Item: 2808  \n",
       "Timestamp               \n",
       "2005-01-11         NaN  \n",
       "2005-01-12         NaN  \n",
       "2005-01-13         NaN  \n",
       "2005-01-14         NaN  \n",
       "2005-01-15         NaN  "
      ]
     },
     "execution_count": 101,
     "metadata": {},
     "output_type": "execute_result"
    }
   ],
   "source": [
    "ts[:5]"
   ]
  },
  {
   "cell_type": "code",
   "execution_count": 102,
   "metadata": {
    "collapsed": true
   },
   "outputs": [],
   "source": [
    "h =1 \n",
    "\n",
    "FRC_TS = dict()\n",
    "frc_ts = pd.DataFrame(index = ts.index.append(pd.date_range(ts.index[-1]+pd.Timedelta(1,'D'), ts.index[-1]+pd.Timedelta(h,'D')))\n",
    "                      , columns = ts.columns)"
   ]
  },
  {
   "cell_type": "code",
   "execution_count": 103,
   "metadata": {
    "collapsed": false
   },
   "outputs": [],
   "source": [
    "# run Adaptive Selection\n",
    "gamma=0.01\n",
    "eps = 0.01\n",
    "\n",
    "for cntr in ts.columns:\n",
    "    frc_ts[cntr]= AdaptiveSelection(ts[cntr],h, {'gamma':gamma, 'eps': eps, 'BaseAlgs':BaseAlgs})\n",
    "FRC_TS['AS gamma %.2f eps %.2f' % (gamma, eps)] = frc_ts"
   ]
  },
  {
   "cell_type": "code",
   "execution_count": 104,
   "metadata": {
    "collapsed": false
   },
   "outputs": [
    {
     "data": {
      "text/plain": [
       "<matplotlib.axes._subplots.AxesSubplot at 0xc430048>"
      ]
     },
     "execution_count": 104,
     "metadata": {},
     "output_type": "execute_result"
    },
    {
     "data": {
      "image/png": "[encoded data removed]",
      "text/plain": [
       "<matplotlib.figure.Figure at 0xc1625c0>"
      ]
     },
     "metadata": {},
     "output_type": "display_data"
    }
   ],
   "source": [
    "ts['Item: 2697'].plot()\n",
    "frc_ts['Item: 2765'].plot()"
   ]
  },
  {
   "cell_type": "code",
   "execution_count": 105,
   "metadata": {
    "collapsed": false
   },
   "outputs": [
    {
     "data": {
      "text/plain": [
       "dict_keys(['AS gamma 0.01 eps 0.01'])"
      ]
     },
     "execution_count": 105,
     "metadata": {},
     "output_type": "execute_result"
    }
   ],
   "source": [
    "FRC_TS.keys()"
   ]
  },
  {
   "cell_type": "code",
   "execution_count": 106,
   "metadata": {
    "collapsed": true
   },
   "outputs": [],
   "source": [
    "frc_ts = pd.DataFrame(index = ts.index.append(pd.date_range(ts.index[-1]+pd.Timedelta(1,'D'), ts.index[-1]+pd.Timedelta(h,'D')))\n",
    "                      , columns = ts.columns)"
   ]
  },
  {
   "cell_type": "code",
   "execution_count": 107,
   "metadata": {
    "collapsed": false
   },
   "outputs": [
    {
     "name": "stderr",
     "output_type": "stream",
     "text": [
      "C:\\Users\\Shahane\\Anaconda3\\lib\\site-packages\\ipykernel\\__main__.py:48: RuntimeWarning: divide by zero encountered in true_divide\n",
      "C:\\Users\\Shahane\\Anaconda3\\lib\\site-packages\\ipykernel\\__main__.py:48: RuntimeWarning: invalid value encountered in true_divide\n"
     ]
    }
   ],
   "source": [
    "# run Adaptive Composition\n",
    "gamma=0.1\n",
    "eps = 0.01\n",
    "\n",
    "for cntr in ts.columns:\n",
    "    frc_ts[cntr]= AdaptiveCombination(ts[cntr],h, {'gamma':gamma,'eps': eps, 'BaseAlgs':BaseAlgs})\n",
    "FRC_TS['AC gamma %.2f' % (gamma)] = frc_ts"
   ]
  },
  {
   "cell_type": "code",
   "execution_count": 108,
   "metadata": {
    "collapsed": false
   },
   "outputs": [
    {
     "data": {
      "text/plain": [
       "<matplotlib.axes._subplots.AxesSubplot at 0xc402860>"
      ]
     },
     "execution_count": 108,
     "metadata": {},
     "output_type": "execute_result"
    },
    {
     "data": {
      "image/png": "[encoded data removed]",
      "text/plain": [
       "<matplotlib.figure.Figure at 0xc4dd9e8>"
      ]
     },
     "metadata": {},
     "output_type": "display_data"
    }
   ],
   "source": [
    "ts['Item: 2697'].plot()\n",
    "frc_ts['Item: 2765'].plot()"
   ]
  },
  {
   "cell_type": "code",
   "execution_count": 109,
   "metadata": {
    "collapsed": false
   },
   "outputs": [
    {
     "data": {
      "text/plain": [
       "<matplotlib.legend.Legend at 0xc5cccc0>"
      ]
     },
     "execution_count": 109,
     "metadata": {},
     "output_type": "execute_result"
    },
    {
     "data": {
      "image/png": "[encoded data removed]",
      "text/plain": [
       "<matplotlib.figure.Figure at 0xb940b70>"
      ]
     },
     "metadata": {},
     "output_type": "display_data"
    }
   ],
   "source": [
    "# plot loss of compositions\n",
    "ix = range(100)\n",
    "# compare ES methods in first 100 steps\n",
    "QualityStr = pd.DataFrame(index = ts.columns, columns = sorted(FRC_TS.keys()))\n",
    "\n",
    "for model in QualityStr.columns:\n",
    "    frc_ts = FRC_TS[model]\n",
    "    for ts_num in ts.columns:\n",
    "        ix = pd.date_range(ts[ts_num].first_valid_index(), ts[ts_num].first_valid_index()+pd.Timedelta(50,'D'))\n",
    "        QualityStr[model][ts_num],_ = qualityMACAPE(ts[ts_num], frc_ts[ts_num])\n",
    "\n",
    "plt.figure(figsize=(15,6))\n",
    "QualityStr[sorted(QualityStr.columns)[0]].plot(label='AdaptiveComposition', linewidth=2.0)\n",
    "QualityStr[sorted(QualityStr.columns)[1]].plot(label='AdaptiveSelection', linewidth=2.0)\n",
    "\n",
    "plt.legend()"
   ]
  }
 ],
 "metadata": {
  "kernelspec": {
   "display_name": "Python 3",
   "language": "python",
   "name": "python3"
  },
  "language_info": {
   "codemirror_mode": {
    "name": "ipython",
    "version": 3
   },
   "file_extension": ".py",
   "mimetype": "text/x-python",
   "name": "python",
   "nbconvert_exporter": "python",
   "pygments_lexer": "ipython3",
   "version": "3.6.1"
  }
 },
 "nbformat": 4,
 "nbformat_minor": 2
}
