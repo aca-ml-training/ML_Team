{
 "cells": [
  {
   "cell_type": "markdown",
   "metadata": {},
   "source": [
    "<span style=\"font-size: 14pt\">YEREVAN, May-June 2017</span>\n",
    "\n",
    "<span style=\"font-size: 16pt\"> HW #6: ARIMA model\n",
    "\n",
    "<span style=\"color:blue; font-size: 12pt\">Alexey Romanenko </span>,\n",
    "<span style=\"color:blue; font-size: 12pt; font-family: 'Verdana'\">alexromsput@gmail.com</span>\n",
    "\n",
    "\n",
    "<h1 align=\"center\"> Home Work 6 </h1>\n",
    "\n",
    "## Answer questions\n",
    "\n",
    "**1. Proof next statements for model  $$AR(p)\\colon \\;\\;\\; y_t = \\phi_1 y_{t-1} + \\phi_2 y_{t-2} + \\dots + \\phi_p y_{t-p} + \\varepsilon_t,$$**  \n",
    "    where $y_t$ is a stationary time series with zero average,$~~$\n",
    "    $\\phi_1,\\dots,\\phi_p$ are constants ($\\phi_q \\neq 0$), $~~$\n",
    "    $\\varepsilon_t$ is gaussian white noise with zero average and constant dispersion $\\sigma_\\varepsilon^2.$\n",
    "\n",
    "   * a) partial autocorrelation coefficient\n",
    "   $$\\phi_{\\tau\\tau} = \\mathsf{E}[y_t-\\hat y_t, y_{t+\\tau} - \\hat y_{t+\\tau}]= \\begin{cases}0 &, \\tau>p; \\\\ f(\\tau,p)>0 &, 0\\leq\\tau\\leq p. \\end{cases}$$\n",
    "\t\n",
    "  where $\\hat y_t$ - forecast of $y_t$ with following regression model $$\\hat y_t = \\sum_{j=1}^{\\tau-1}\\beta_j y_{t+j}$$\n",
    "    $\\hat y_{t+\\tau}$ - forecast of $y_{t\\tau}$ with following regression model $$\\hat y_{t+\\tau} = \\sum_{j=1}^{\\tau-1}\\gamma_j y_{t+j}$$\n",
    "\n",
    "$$y_{t+\\tau} - \\hat y_{t+\\tau} = y_{t+\\tau} - \\sum_{j=1}^{\\tau-1}\\gamma_j y_{t+j}$$\n",
    "\n",
    "\n",
    "When $0\\leq\\tau\\leq p$, there is a correlation between the errors, so we will have:\n",
    "\n",
    "$$y_t - \\hat y_t = e_t$$\n",
    "$$y_{t+\\tau} - \\hat y_{t+\\tau} =e_{t+\\tau} $$\n",
    "$$E[e_t,e_{t+\\tau}] = \\sigma ^2$$\n",
    "\n",
    "Obviously, $\\sigma ^2 > 0$\n",
    "In the case when we have $\\tau> p$, we will have:\n",
    "\n",
    "$$y_{t+\\tau} - \\hat y_{t+\\tau} = y_{t+\\tau} - \\sum_{j=1}^{\\tau-1}\\gamma_j y_{t+j} = e_{t+\\tau}$$\n",
    "$$\\mathsf{E}[y_t-\\hat y_t, y_{t+\\tau} - \\hat y_{t+\\tau}]=\\mathsf{E}[y_t-\\hat y_t, e_{t+\\tau}] = 0$$\n",
    "\n",
    "\n",
    "**2. Proof next statements for model  $$MA(q)\\colon \\;\\;\\; y_t = \\varepsilon_t + \\theta_1\\varepsilon_{t-1} + \\theta_2\\varepsilon_{t-2} + \\dots + \\theta_q \\varepsilon_{t-q},$$** $$ $$\n",
    "    where $y_t$ is a stationary time series with zero average,$~~$\n",
    "    $\\theta_1,\\dots,\\theta_q$ are constants ($\\theta_q \\neq 0$),$~~$ \n",
    "    $\\varepsilon_t$ is gaussian white noise with zero average and constant dispersion $\\sigma_\\varepsilon^2.$\n",
    "\n",
    "\n",
    "* a) correlation coefficient\n",
    "   $$r_\\tau=\\begin{cases}0 &, \\tau>q. \\\\ f(\\tau,q)>0 &, \\tau\\leq q; \\end{cases}$$\n",
    "   \n",
    "When $\\tau \\leq q$, the errors will be correlated and the expectation will be $>0$ (i.e. $E(e_i ^2) = \\sigma ^2 > 0$).\n",
    "When $\\tau > q$, the errors are not correlated and the expectation will be $0$. \n",
    "   \n",
    "**3. Conclude in accordance with results above how to choose $p$ and $q$ parameters for ARMA model by looking at ACF and PACF.**\n",
    "\n",
    "By looking at ACF, we understand that we should choose our q equal to the lag for which ACF is non-zero, in fact we should choose the maximum of these lags.\n",
    "\n",
    "In the same manner, we should choose our p equal to the maximum lag for which PACF is non-zero.\n"
   ]
  }
 ],
 "metadata": {
  "anaconda-cloud": {},
  "kernelspec": {
   "display_name": "Python 2",
   "language": "python",
   "name": "python2"
  },
  "language_info": {
   "codemirror_mode": {
    "name": "ipython",
    "version": 2
   },
   "file_extension": ".py",
   "mimetype": "text/x-python",
   "name": "python",
   "nbconvert_exporter": "python",
   "pygments_lexer": "ipython2",
   "version": "2.7.13"
  }
 },
 "nbformat": 4,
 "nbformat_minor": 1
}
