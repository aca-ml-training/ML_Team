{
 "cells": [
  {
   "cell_type": "markdown",
   "metadata": {},
   "source": [
    "I decided to deal with continuous output data by replacing it by intervals of values, in this case the number of intervals is 10."
   ]
  },
  {
   "cell_type": "code",
   "execution_count": 16,
   "metadata": {
    "collapsed": false
   },
   "outputs": [
    {
     "data": {
      "text/html": [
       "<div>\n",
       "<table border=\"1\" class=\"dataframe\">\n",
       "  <thead>\n",
       "    <tr style=\"text-align: right;\">\n",
       "      <th></th>\n",
       "      <th>0</th>\n",
       "      <th>1</th>\n",
       "      <th>2</th>\n",
       "      <th>3</th>\n",
       "      <th>4</th>\n",
       "      <th>5</th>\n",
       "      <th>6</th>\n",
       "      <th>7</th>\n",
       "      <th>8</th>\n",
       "      <th>9</th>\n",
       "      <th>...</th>\n",
       "      <th>35</th>\n",
       "      <th>36</th>\n",
       "      <th>37</th>\n",
       "      <th>38</th>\n",
       "      <th>39</th>\n",
       "      <th>40</th>\n",
       "      <th>41</th>\n",
       "      <th>42</th>\n",
       "      <th>43</th>\n",
       "      <th>44</th>\n",
       "    </tr>\n",
       "  </thead>\n",
       "  <tbody>\n",
       "    <tr>\n",
       "      <th>0</th>\n",
       "      <td>1</td>\n",
       "      <td>59</td>\n",
       "      <td>52</td>\n",
       "      <td>70</td>\n",
       "      <td>67</td>\n",
       "      <td>73</td>\n",
       "      <td>66</td>\n",
       "      <td>72</td>\n",
       "      <td>61</td>\n",
       "      <td>58</td>\n",
       "      <td>...</td>\n",
       "      <td>66</td>\n",
       "      <td>56</td>\n",
       "      <td>62</td>\n",
       "      <td>56</td>\n",
       "      <td>72</td>\n",
       "      <td>62</td>\n",
       "      <td>74</td>\n",
       "      <td>74</td>\n",
       "      <td>64</td>\n",
       "      <td>67</td>\n",
       "    </tr>\n",
       "    <tr>\n",
       "      <th>1</th>\n",
       "      <td>1</td>\n",
       "      <td>72</td>\n",
       "      <td>62</td>\n",
       "      <td>69</td>\n",
       "      <td>67</td>\n",
       "      <td>78</td>\n",
       "      <td>82</td>\n",
       "      <td>74</td>\n",
       "      <td>65</td>\n",
       "      <td>69</td>\n",
       "      <td>...</td>\n",
       "      <td>65</td>\n",
       "      <td>71</td>\n",
       "      <td>63</td>\n",
       "      <td>60</td>\n",
       "      <td>69</td>\n",
       "      <td>73</td>\n",
       "      <td>67</td>\n",
       "      <td>71</td>\n",
       "      <td>56</td>\n",
       "      <td>58</td>\n",
       "    </tr>\n",
       "    <tr>\n",
       "      <th>2</th>\n",
       "      <td>1</td>\n",
       "      <td>71</td>\n",
       "      <td>62</td>\n",
       "      <td>70</td>\n",
       "      <td>64</td>\n",
       "      <td>67</td>\n",
       "      <td>64</td>\n",
       "      <td>79</td>\n",
       "      <td>65</td>\n",
       "      <td>70</td>\n",
       "      <td>...</td>\n",
       "      <td>73</td>\n",
       "      <td>70</td>\n",
       "      <td>66</td>\n",
       "      <td>65</td>\n",
       "      <td>64</td>\n",
       "      <td>55</td>\n",
       "      <td>61</td>\n",
       "      <td>41</td>\n",
       "      <td>51</td>\n",
       "      <td>46</td>\n",
       "    </tr>\n",
       "    <tr>\n",
       "      <th>3</th>\n",
       "      <td>1</td>\n",
       "      <td>69</td>\n",
       "      <td>71</td>\n",
       "      <td>70</td>\n",
       "      <td>78</td>\n",
       "      <td>61</td>\n",
       "      <td>63</td>\n",
       "      <td>67</td>\n",
       "      <td>65</td>\n",
       "      <td>59</td>\n",
       "      <td>...</td>\n",
       "      <td>61</td>\n",
       "      <td>61</td>\n",
       "      <td>66</td>\n",
       "      <td>65</td>\n",
       "      <td>72</td>\n",
       "      <td>73</td>\n",
       "      <td>68</td>\n",
       "      <td>68</td>\n",
       "      <td>59</td>\n",
       "      <td>63</td>\n",
       "    </tr>\n",
       "    <tr>\n",
       "      <th>4</th>\n",
       "      <td>1</td>\n",
       "      <td>70</td>\n",
       "      <td>66</td>\n",
       "      <td>61</td>\n",
       "      <td>66</td>\n",
       "      <td>61</td>\n",
       "      <td>58</td>\n",
       "      <td>69</td>\n",
       "      <td>69</td>\n",
       "      <td>72</td>\n",
       "      <td>...</td>\n",
       "      <td>67</td>\n",
       "      <td>69</td>\n",
       "      <td>70</td>\n",
       "      <td>66</td>\n",
       "      <td>70</td>\n",
       "      <td>64</td>\n",
       "      <td>60</td>\n",
       "      <td>55</td>\n",
       "      <td>49</td>\n",
       "      <td>41</td>\n",
       "    </tr>\n",
       "  </tbody>\n",
       "</table>\n",
       "<p>5 rows × 45 columns</p>\n",
       "</div>"
      ],
      "text/plain": [
       "   0   1   2   3   4   5   6   7   8   9  ...  35  36  37  38  39  40  41  42  \\\n",
       "0   1  59  52  70  67  73  66  72  61  58 ...  66  56  62  56  72  62  74  74   \n",
       "1   1  72  62  69  67  78  82  74  65  69 ...  65  71  63  60  69  73  67  71   \n",
       "2   1  71  62  70  64  67  64  79  65  70 ...  73  70  66  65  64  55  61  41   \n",
       "3   1  69  71  70  78  61  63  67  65  59 ...  61  61  66  65  72  73  68  68   \n",
       "4   1  70  66  61  66  61  58  69  69  72 ...  67  69  70  66  70  64  60  55   \n",
       "\n",
       "   43  44  \n",
       "0  64  67  \n",
       "1  56  58  \n",
       "2  51  46  \n",
       "3  59  63  \n",
       "4  49  41  \n",
       "\n",
       "[5 rows x 45 columns]"
      ]
     },
     "execution_count": 16,
     "metadata": {},
     "output_type": "execute_result"
    }
   ],
   "source": [
    "import numpy as np\n",
    "import pandas as pd\n",
    "\n",
    "\n",
    "dataset = 'SPECTF.dat'\n",
    "df = pd.read_csv(dataset,header=None)\n",
    "\n",
    "X = np.array(df.iloc[:,:-1])\n",
    "Y = np.array(df.iloc[:,0])\n",
    "df[:5]"
   ]
  },
  {
   "cell_type": "markdown",
   "metadata": {},
   "source": [
    "# Shahane's Desicion Tree and Random Forest Classifiers"
   ]
  },
  {
   "cell_type": "code",
   "execution_count": 29,
   "metadata": {
    "collapsed": false
   },
   "outputs": [
    {
     "name": "stdout",
     "output_type": "stream",
     "text": [
      "0\n"
     ]
    },
    {
     "name": "stderr",
     "output_type": "stream",
     "text": [
      "C:\\Users\\Shahane\\ML Course\\Untitled Folder\\random_forest.py:35: VisibleDeprecationWarning: using a non-integer number instead of an integer will result in an error in the future\n",
      "  rand = data[np.random.randint(data.shape[0], size=data.shape[0]*self.ratio_per_tree), :]\n"
     ]
    },
    {
     "name": "stdout",
     "output_type": "stream",
     "text": [
      "10\n",
      "20\n",
      "30\n",
      "40\n",
      "50\n",
      "60\n",
      "70\n",
      "80\n",
      "90\n",
      "Decision Tree Accuracy =  68.8083832335  ( 16.5761428228 )\n",
      "Random Forest Tree Accuracy =  77.7305389222  ( 4.82375749597 )\n"
     ]
    }
   ],
   "source": [
    "import runner as rn\n",
    "stats = rn.evaluate_performance()\n",
    "print (\"Decision Tree Accuracy = \", stats[0, 0], \" (\", stats[0, 1], \")\")\n",
    "print (\"Random Forest Tree Accuracy = \", stats[1, 0], \" (\", stats[1, 1], \")\")"
   ]
  },
  {
   "cell_type": "code",
   "execution_count": 17,
   "metadata": {
    "collapsed": false
   },
   "outputs": [],
   "source": [
    "from sklearn.model_selection import train_test_split\n",
    "\n",
    "train, test = train_test_split(df, test_size = 0.2)\n",
    "train_y = train.iloc[:,0]\n",
    "test_y = test.iloc[:,0]\n",
    "\n",
    "train_l = len(train)\n",
    "test_l = len(test)"
   ]
  },
  {
   "cell_type": "code",
   "execution_count": 18,
   "metadata": {
    "collapsed": false
   },
   "outputs": [
    {
     "name": "stdout",
     "output_type": "stream",
     "text": [
      "Sklearn Random Forest accuracy: 96.289308\n",
      "Sklearn Decision Tree accuracy: 100.000000\n",
      "Sklearn Logistic Regression accuracy: 96.275332\n"
     ]
    }
   ],
   "source": [
    "from sklearn.ensemble import RandomForestClassifier\n",
    "from sklearn.linear_model import LogisticRegression\n",
    "from sklearn.tree import DecisionTreeClassifier\n",
    "from sklearn.cross_validation import cross_val_score\n",
    "\n",
    "clf = RandomForestClassifier(n_estimators=10, criterion='gini', max_depth=None, min_samples_split=10, min_samples_leaf=5, \n",
    "                             min_weight_fraction_leaf=0.0, max_features='auto', max_leaf_nodes=None, min_impurity_split=1e-07, \n",
    "                             bootstrap=True, oob_score=False, n_jobs=1, random_state=None, verbose=0, warm_start=False, \n",
    "                             class_weight=None) #Initialize with whatever parameters you want to\n",
    "\n",
    "clf.fit(train,train_y)\n",
    "scores_ran = np.mean(cross_val_score(clf, X, Y, cv=5))*100\n",
    "\n",
    "log = LogisticRegression(C=1.0, class_weight=None, dual=False, fit_intercept=True,\n",
    "    intercept_scaling=1, max_iter=200, multi_class='ovr', n_jobs=3,\n",
    "    penalty='l2', random_state=None, solver='liblinear', tol=0.0001,\n",
    "    verbose=0, warm_start=False)\n",
    "        \n",
    "log.fit(train,train_y)\n",
    "scores_log = np.mean(cross_val_score(log, X, Y, cv=5))*100\n",
    "\n",
    "\n",
    "dec = DecisionTreeClassifier(criterion='gini', splitter='best', max_depth=None, min_samples_split=2, \n",
    "                             min_samples_leaf=1, min_weight_fraction_leaf=0.0, max_features=None, random_state=None, \n",
    "                             max_leaf_nodes=None, min_impurity_split=1e-07, class_weight=None, presort=False)\n",
    "\n",
    "dec.fit(train,train_y)\n",
    "scores_dec = np.mean(cross_val_score(dec, X, Y, cv=5))*100\n",
    "\n",
    "print('Sklearn Random Forest accuracy: %f' % scores_ran)\n",
    "print('Sklearn Decision Tree accuracy: %f' % scores_dec)\n",
    "print('Sklearn Logistic Regression accuracy: %f' % scores_log)"
   ]
  },
  {
   "cell_type": "markdown",
   "metadata": {},
   "source": [
    "# Report table"
   ]
  },
  {
   "cell_type": "code",
   "execution_count": 19,
   "metadata": {
    "collapsed": false
   },
   "outputs": [
    {
     "data": {
      "text/html": [
       "<div>\n",
       "<table border=\"1\" class=\"dataframe\">\n",
       "  <thead>\n",
       "    <tr style=\"text-align: right;\">\n",
       "      <th></th>\n",
       "      <th>Classifier Accuracy</th>\n",
       "      <th>Classifier Type</th>\n",
       "      <th>Cross Validation</th>\n",
       "      <th>Test set size</th>\n",
       "      <th>Training set size</th>\n",
       "      <th>dataset</th>\n",
       "    </tr>\n",
       "  </thead>\n",
       "  <tbody>\n",
       "    <tr>\n",
       "      <th>0</th>\n",
       "      <td>96.2753</td>\n",
       "      <td>Logistic Regression</td>\n",
       "      <td>5 folds</td>\n",
       "      <td>54</td>\n",
       "      <td>213</td>\n",
       "      <td>SPECTF.dat</td>\n",
       "    </tr>\n",
       "    <tr>\n",
       "      <th>1</th>\n",
       "      <td>100</td>\n",
       "      <td>Desicion Tree</td>\n",
       "      <td>5 folds</td>\n",
       "      <td>54</td>\n",
       "      <td>213</td>\n",
       "      <td>SPECTF.dat</td>\n",
       "    </tr>\n",
       "    <tr>\n",
       "      <th>2</th>\n",
       "      <td>96.2893</td>\n",
       "      <td>Random Forest</td>\n",
       "      <td>5 folds</td>\n",
       "      <td>54</td>\n",
       "      <td>213</td>\n",
       "      <td>SPECTF.dat</td>\n",
       "    </tr>\n",
       "    <tr>\n",
       "      <th>3</th>\n",
       "      <td>68.8084</td>\n",
       "      <td>Shahane's Desicion tree</td>\n",
       "      <td>5 folds</td>\n",
       "      <td>54</td>\n",
       "      <td>213</td>\n",
       "      <td>SPECTF.dat</td>\n",
       "    </tr>\n",
       "    <tr>\n",
       "      <th>4</th>\n",
       "      <td>77.7305</td>\n",
       "      <td>Shahane's Random Forest</td>\n",
       "      <td>5 folds</td>\n",
       "      <td>54</td>\n",
       "      <td>213</td>\n",
       "      <td>SPECTF.dat</td>\n",
       "    </tr>\n",
       "  </tbody>\n",
       "</table>\n",
       "</div>"
      ],
      "text/plain": [
       "  Classifier Accuracy          Classifier Type Cross Validation  \\\n",
       "0             96.2753      Logistic Regression          5 folds   \n",
       "1                 100            Desicion Tree          5 folds   \n",
       "2             96.2893            Random Forest          5 folds   \n",
       "3             68.8084  Shahane's Desicion tree          5 folds   \n",
       "4             77.7305  Shahane's Random Forest          5 folds   \n",
       "\n",
       "   Test set size  Training set size     dataset  \n",
       "0             54                213  SPECTF.dat  \n",
       "1             54                213  SPECTF.dat  \n",
       "2             54                213  SPECTF.dat  \n",
       "3             54                213  SPECTF.dat  \n",
       "4             54                213  SPECTF.dat  "
      ]
     },
     "execution_count": 19,
     "metadata": {},
     "output_type": "execute_result"
    }
   ],
   "source": [
    "from collections import OrderedDict\n",
    "\n",
    "\n",
    "report = [{'dataset': dataset, 'Training set size': train_l, 'Test set size': test_l, 'Classifier Type': 'Logistic Regression', 'Classifier Accuracy': scores_log, 'Cross Validation': '5 folds'},\n",
    "          {'dataset': dataset, 'Training set size': train_l, 'Test set size': test_l, 'Classifier Type': 'Desicion Tree', 'Classifier Accuracy': scores_dec, 'Cross Validation': '5 folds'},\n",
    "         {'dataset': dataset, 'Training set size': train_l, 'Test set size': test_l, 'Classifier Type': 'Random Forest', 'Classifier Accuracy': scores_ran, 'Cross Validation': '5 folds'},\n",
    "         {'dataset': dataset, 'Training set size': train_l, 'Test set size': test_l, 'Classifier Type': \"Shahane's Desicion tree\", 'Classifier Accuracy': \"68.8084\", 'Cross Validation': '5 folds'},\n",
    "         {'dataset': dataset, 'Training set size': train_l, 'Test set size': test_l, 'Classifier Type': \"Shahane's Random Forest\", 'Classifier Accuracy': \"77.7305\", 'Cross Validation': '5 folds'}]\n",
    "df_report = pd.DataFrame(report)\n",
    "df_report"
   ]
  }
 ],
 "metadata": {
  "kernelspec": {
   "display_name": "Python 3",
   "language": "python",
   "name": "python3"
  },
  "language_info": {
   "codemirror_mode": {
    "name": "ipython",
    "version": 3
   },
   "file_extension": ".py",
   "mimetype": "text/x-python",
   "name": "python",
   "nbconvert_exporter": "python",
   "pygments_lexer": "ipython3",
   "version": "3.6.0"
  }
 },
 "nbformat": 4,
 "nbformat_minor": 2
}
